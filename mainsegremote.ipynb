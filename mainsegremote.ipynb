{
 "cells": [
  {
   "cell_type": "code",
   "execution_count": 1,
   "metadata": {},
   "outputs": [],
   "source": [
    "headless = True"
   ]
  },
  {
   "cell_type": "code",
   "execution_count": 2,
   "metadata": {},
   "outputs": [],
   "source": [
    "import os\n",
    "import numpy as np\n",
    "import torch\n",
    "import imageio.v2 as imageio\n",
    "from PIL import Image\n",
    "import cv2 # make sure to use headless!\n",
    "\n",
    "if not headless:\n",
    "    import matplotlib.pyplot as plt"
   ]
  },
  {
   "cell_type": "code",
   "execution_count": 4,
   "metadata": {},
   "outputs": [],
   "source": [
    "device = torch.device(\"cuda\")\n",
    "\n",
    "torch.autocast(\"cuda\", dtype=torch.bfloat16).__enter__()\n",
    "if torch.cuda.get_device_properties(0).major >= 8:\n",
    "    torch.backends.cuda.matmul.allow_tf32 = True\n",
    "    torch.backends.cudnn.allow_tf32 = True\n",
    "\n",
    "from sam2.build_sam import build_sam2_video_predictor\n",
    "\n",
    "sam2_checkpoint = \"./checkpoints/sam2.1_hiera_large.pt\"\n",
    "model_cfg = \"configs/sam2.1/sam2.1_hiera_l.yaml\"\n",
    "\n",
    "predictor = build_sam2_video_predictor(model_cfg, sam2_checkpoint, device=device)\n",
    "\n",
    "# honestly not sure the purpose of this, but leaving it in\n",
    "np.random.seed(3)"
   ]
  },
  {
   "cell_type": "code",
   "execution_count": 21,
   "metadata": {},
   "outputs": [
    {
     "name": "stdout",
     "output_type": "stream",
     "text": [
      "tennis/0\n"
     ]
    },
    {
     "name": "stderr",
     "output_type": "stream",
     "text": [
      "frame loading (JPEG): 100%|██████████| 150/150 [00:08<00:00, 18.11it/s]\n",
      "propagate in video: 100%|██████████| 150/150 [00:06<00:00, 22.27it/s]\n"
     ]
    },
    {
     "name": "stdout",
     "output_type": "stream",
     "text": [
      "tennis/1\n"
     ]
    },
    {
     "name": "stderr",
     "output_type": "stream",
     "text": [
      "frame loading (JPEG): 100%|██████████| 150/150 [00:08<00:00, 17.61it/s]\n",
      "propagate in video: 100%|██████████| 150/150 [00:06<00:00, 22.39it/s]\n"
     ]
    },
    {
     "name": "stdout",
     "output_type": "stream",
     "text": [
      "tennis/2\n"
     ]
    },
    {
     "name": "stderr",
     "output_type": "stream",
     "text": [
      "frame loading (JPEG): 100%|██████████| 150/150 [00:08<00:00, 18.51it/s]\n",
      "propagate in video: 100%|██████████| 150/150 [00:06<00:00, 22.31it/s]\n"
     ]
    },
    {
     "name": "stdout",
     "output_type": "stream",
     "text": [
      "tennis/3\n"
     ]
    },
    {
     "name": "stderr",
     "output_type": "stream",
     "text": [
      "frame loading (JPEG): 100%|██████████| 150/150 [00:07<00:00, 19.97it/s]\n",
      "propagate in video: 100%|██████████| 150/150 [00:06<00:00, 22.29it/s]\n"
     ]
    },
    {
     "name": "stdout",
     "output_type": "stream",
     "text": [
      "tennis/4\n"
     ]
    },
    {
     "name": "stderr",
     "output_type": "stream",
     "text": [
      "frame loading (JPEG): 100%|██████████| 150/150 [00:08<00:00, 18.31it/s]\n",
      "propagate in video: 100%|██████████| 150/150 [00:06<00:00, 22.30it/s]\n"
     ]
    },
    {
     "name": "stdout",
     "output_type": "stream",
     "text": [
      "tennis/5\n"
     ]
    },
    {
     "name": "stderr",
     "output_type": "stream",
     "text": [
      "frame loading (JPEG): 100%|██████████| 150/150 [00:07<00:00, 19.46it/s]\n",
      "propagate in video: 100%|██████████| 150/150 [00:06<00:00, 22.33it/s]\n"
     ]
    },
    {
     "name": "stdout",
     "output_type": "stream",
     "text": [
      "tennis/6\n"
     ]
    },
    {
     "name": "stderr",
     "output_type": "stream",
     "text": [
      "frame loading (JPEG): 100%|██████████| 150/150 [00:07<00:00, 19.70it/s]\n",
      "propagate in video: 100%|██████████| 150/150 [00:06<00:00, 22.37it/s]\n"
     ]
    },
    {
     "name": "stdout",
     "output_type": "stream",
     "text": [
      "tennis/7\n"
     ]
    },
    {
     "name": "stderr",
     "output_type": "stream",
     "text": [
      "frame loading (JPEG): 100%|██████████| 150/150 [00:07<00:00, 20.00it/s]\n",
      "propagate in video: 100%|██████████| 150/150 [00:06<00:00, 22.32it/s]\n"
     ]
    },
    {
     "name": "stdout",
     "output_type": "stream",
     "text": [
      "tennis/8\n"
     ]
    },
    {
     "name": "stderr",
     "output_type": "stream",
     "text": [
      "frame loading (JPEG): 100%|██████████| 150/150 [00:07<00:00, 19.46it/s]\n",
      "propagate in video: 100%|██████████| 150/150 [00:06<00:00, 22.28it/s]\n"
     ]
    },
    {
     "name": "stdout",
     "output_type": "stream",
     "text": [
      "tennis/9\n"
     ]
    },
    {
     "name": "stderr",
     "output_type": "stream",
     "text": [
      "frame loading (JPEG): 100%|██████████| 150/150 [00:07<00:00, 18.99it/s]\n",
      "propagate in video: 100%|██████████| 150/150 [00:06<00:00, 22.31it/s]\n"
     ]
    },
    {
     "name": "stdout",
     "output_type": "stream",
     "text": [
      "tennis/10\n"
     ]
    },
    {
     "name": "stderr",
     "output_type": "stream",
     "text": [
      "frame loading (JPEG): 100%|██████████| 150/150 [00:07<00:00, 19.47it/s]\n",
      "propagate in video: 100%|██████████| 150/150 [00:06<00:00, 22.25it/s]\n"
     ]
    },
    {
     "name": "stdout",
     "output_type": "stream",
     "text": [
      "tennis/11\n"
     ]
    },
    {
     "name": "stderr",
     "output_type": "stream",
     "text": [
      "frame loading (JPEG): 100%|██████████| 150/150 [00:07<00:00, 18.94it/s]\n",
      "propagate in video: 100%|██████████| 150/150 [00:06<00:00, 22.16it/s]\n"
     ]
    },
    {
     "name": "stdout",
     "output_type": "stream",
     "text": [
      "tennis/12\n"
     ]
    },
    {
     "name": "stderr",
     "output_type": "stream",
     "text": [
      "frame loading (JPEG): 100%|██████████| 150/150 [00:07<00:00, 19.75it/s]\n",
      "propagate in video: 100%|██████████| 150/150 [00:06<00:00, 22.26it/s]\n"
     ]
    },
    {
     "name": "stdout",
     "output_type": "stream",
     "text": [
      "tennis/13\n"
     ]
    },
    {
     "name": "stderr",
     "output_type": "stream",
     "text": [
      "frame loading (JPEG): 100%|██████████| 150/150 [00:07<00:00, 19.24it/s]\n",
      "propagate in video: 100%|██████████| 150/150 [00:06<00:00, 22.27it/s]\n"
     ]
    },
    {
     "name": "stdout",
     "output_type": "stream",
     "text": [
      "tennis/14\n"
     ]
    },
    {
     "name": "stderr",
     "output_type": "stream",
     "text": [
      "frame loading (JPEG): 100%|██████████| 150/150 [00:07<00:00, 19.19it/s]\n",
      "propagate in video: 100%|██████████| 150/150 [00:06<00:00, 22.30it/s]\n"
     ]
    },
    {
     "name": "stdout",
     "output_type": "stream",
     "text": [
      "tennis/15\n"
     ]
    },
    {
     "name": "stderr",
     "output_type": "stream",
     "text": [
      "frame loading (JPEG): 100%|██████████| 150/150 [00:07<00:00, 19.78it/s]\n",
      "propagate in video: 100%|██████████| 150/150 [00:06<00:00, 22.29it/s]\n"
     ]
    },
    {
     "name": "stdout",
     "output_type": "stream",
     "text": [
      "tennis/16\n"
     ]
    },
    {
     "name": "stderr",
     "output_type": "stream",
     "text": [
      "frame loading (JPEG): 100%|██████████| 150/150 [00:07<00:00, 19.75it/s]\n",
      "propagate in video: 100%|██████████| 150/150 [00:06<00:00, 22.28it/s]\n"
     ]
    },
    {
     "name": "stdout",
     "output_type": "stream",
     "text": [
      "tennis/17\n"
     ]
    },
    {
     "name": "stderr",
     "output_type": "stream",
     "text": [
      "frame loading (JPEG): 100%|██████████| 150/150 [00:08<00:00, 18.73it/s]\n",
      "propagate in video: 100%|██████████| 150/150 [00:06<00:00, 22.33it/s]\n"
     ]
    },
    {
     "name": "stdout",
     "output_type": "stream",
     "text": [
      "tennis/18\n"
     ]
    },
    {
     "name": "stderr",
     "output_type": "stream",
     "text": [
      "frame loading (JPEG): 100%|██████████| 150/150 [00:08<00:00, 18.31it/s]\n",
      "propagate in video: 100%|██████████| 150/150 [00:06<00:00, 22.28it/s]\n"
     ]
    },
    {
     "name": "stdout",
     "output_type": "stream",
     "text": [
      "tennis/19\n"
     ]
    },
    {
     "name": "stderr",
     "output_type": "stream",
     "text": [
      "frame loading (JPEG): 100%|██████████| 150/150 [00:07<00:00, 19.23it/s]\n",
      "propagate in video: 100%|██████████| 150/150 [00:06<00:00, 22.31it/s]\n"
     ]
    },
    {
     "name": "stdout",
     "output_type": "stream",
     "text": [
      "tennis/20\n"
     ]
    },
    {
     "name": "stderr",
     "output_type": "stream",
     "text": [
      "frame loading (JPEG): 100%|██████████| 150/150 [00:07<00:00, 19.39it/s]\n",
      "propagate in video: 100%|██████████| 150/150 [00:06<00:00, 22.33it/s]\n"
     ]
    },
    {
     "name": "stdout",
     "output_type": "stream",
     "text": [
      "tennis/21\n"
     ]
    },
    {
     "name": "stderr",
     "output_type": "stream",
     "text": [
      "frame loading (JPEG): 100%|██████████| 150/150 [00:07<00:00, 19.68it/s]\n",
      "propagate in video: 100%|██████████| 150/150 [00:06<00:00, 22.26it/s]\n"
     ]
    },
    {
     "name": "stdout",
     "output_type": "stream",
     "text": [
      "tennis/22\n"
     ]
    },
    {
     "name": "stderr",
     "output_type": "stream",
     "text": [
      "frame loading (JPEG): 100%|██████████| 150/150 [00:07<00:00, 18.77it/s]\n",
      "propagate in video: 100%|██████████| 150/150 [00:06<00:00, 22.25it/s]\n"
     ]
    },
    {
     "name": "stdout",
     "output_type": "stream",
     "text": [
      "tennis/23\n"
     ]
    },
    {
     "name": "stderr",
     "output_type": "stream",
     "text": [
      "frame loading (JPEG): 100%|██████████| 150/150 [00:08<00:00, 18.32it/s]\n",
      "propagate in video: 100%|██████████| 150/150 [00:06<00:00, 22.23it/s]\n"
     ]
    },
    {
     "name": "stdout",
     "output_type": "stream",
     "text": [
      "tennis/24\n"
     ]
    },
    {
     "name": "stderr",
     "output_type": "stream",
     "text": [
      "frame loading (JPEG): 100%|██████████| 150/150 [00:07<00:00, 18.79it/s]\n",
      "propagate in video: 100%|██████████| 150/150 [00:06<00:00, 22.27it/s]\n"
     ]
    },
    {
     "name": "stdout",
     "output_type": "stream",
     "text": [
      "tennis/25\n"
     ]
    },
    {
     "name": "stderr",
     "output_type": "stream",
     "text": [
      "frame loading (JPEG): 100%|██████████| 150/150 [00:08<00:00, 18.72it/s]\n",
      "propagate in video: 100%|██████████| 150/150 [00:06<00:00, 22.31it/s]\n"
     ]
    },
    {
     "name": "stdout",
     "output_type": "stream",
     "text": [
      "tennis/26\n"
     ]
    },
    {
     "name": "stderr",
     "output_type": "stream",
     "text": [
      "frame loading (JPEG): 100%|██████████| 150/150 [00:07<00:00, 18.77it/s]\n",
      "propagate in video: 100%|██████████| 150/150 [00:06<00:00, 22.27it/s]\n"
     ]
    },
    {
     "name": "stdout",
     "output_type": "stream",
     "text": [
      "tennis/27\n"
     ]
    },
    {
     "name": "stderr",
     "output_type": "stream",
     "text": [
      "frame loading (JPEG): 100%|██████████| 150/150 [00:07<00:00, 19.19it/s]\n",
      "propagate in video: 100%|██████████| 150/150 [00:06<00:00, 22.24it/s]\n"
     ]
    },
    {
     "name": "stdout",
     "output_type": "stream",
     "text": [
      "tennis/28\n"
     ]
    },
    {
     "name": "stderr",
     "output_type": "stream",
     "text": [
      "frame loading (JPEG): 100%|██████████| 150/150 [00:08<00:00, 18.74it/s]\n",
      "propagate in video: 100%|██████████| 150/150 [00:06<00:00, 22.29it/s]\n"
     ]
    },
    {
     "name": "stdout",
     "output_type": "stream",
     "text": [
      "tennis/29\n"
     ]
    },
    {
     "name": "stderr",
     "output_type": "stream",
     "text": [
      "frame loading (JPEG): 100%|██████████| 150/150 [00:08<00:00, 18.71it/s]\n",
      "propagate in video: 100%|██████████| 150/150 [00:06<00:00, 22.37it/s]\n"
     ]
    },
    {
     "name": "stdout",
     "output_type": "stream",
     "text": [
      "tennis/30\n"
     ]
    },
    {
     "name": "stderr",
     "output_type": "stream",
     "text": [
      "frame loading (JPEG): 100%|██████████| 150/150 [00:07<00:00, 19.23it/s]\n",
      "propagate in video: 100%|██████████| 150/150 [00:06<00:00, 22.31it/s]\n"
     ]
    }
   ],
   "source": [
    "#names = [\"basketball\", \"boxes\", \"football\", \"juggle\", \"softball\", \"tennis\"]\n",
    "names = [\"tennis\"]\n",
    "namesidx = 0\n",
    "camidx = 0\n",
    "frameidx = 0\n",
    "\n",
    "for name in names:\n",
    "    for cam in range(31):\n",
    "        inpath = f'./data/{name}/ims/{cam}/' # input data\n",
    "        boxpath = f'./annotations/{name}/{cam}.txt' # bound boxes from boxbounder\n",
    "        outpath = f'./output/{name}/{cam}/' # output masks\n",
    "        print(f\"{name}/{cam}\")\n",
    "\n",
    "        #if os.path.exists(os.path.join(outpath, \"%06d.png\"%(149))):\n",
    "        #    continue\n",
    "\n",
    "        inference_state = predictor.init_state(video_path=inpath)\n",
    "\n",
    "        ann_frame_idx = 0\n",
    "        ann_obj_id = 0\n",
    "\n",
    "        boxes = []\n",
    "        textf = open(boxpath, \"r\")\n",
    "        boxes = textf.readlines()\n",
    "        boxes = [[int(chara) for chara in line.split(\", \")] for line in boxes]\n",
    "        textf.close()\n",
    "\n",
    "        for box in boxes:\n",
    "            _, out_obj_ids, out_mask_logits = predictor.add_new_points_or_box(\n",
    "                inference_state=inference_state,\n",
    "                frame_idx=ann_frame_idx,\n",
    "                obj_id=ann_obj_id,\n",
    "                box=box,\n",
    "            )\n",
    "            ann_obj_id += 1\n",
    "        \n",
    "        video_segments = {}  # video_segments contains the per-frame segmentation results\n",
    "        for out_frame_idx, out_obj_ids, out_mask_logits in predictor.propagate_in_video(inference_state):\n",
    "            video_segments[out_frame_idx] = {\n",
    "                out_obj_id: (out_mask_logits[i] > 0.0).cpu().numpy()\n",
    "                for i, out_obj_id in enumerate(out_obj_ids)\n",
    "            }\n",
    "\n",
    "            finalimg = np.zeros((360, 640, 1))\n",
    "\n",
    "            \n",
    "            for out_obj_id, out_mask in video_segments[out_frame_idx].items():\n",
    "                h, w = out_mask.shape[-2:]\n",
    "                mask_image = out_mask.reshape(h, w, 1)\n",
    "                finalimg = cv2.bitwise_or(finalimg.astype(\"uint8\"), mask_image.astype(\"uint8\"))\n",
    "\n",
    "            finalimg *= 255\n",
    "\n",
    "            imageio.imwrite(os.path.join(outpath, \"%06d.png\"%(out_frame_idx)), finalimg)"
   ]
  },
  {
   "cell_type": "code",
   "execution_count": null,
   "metadata": {},
   "outputs": [],
   "source": []
  }
 ],
 "metadata": {
  "kernelspec": {
   "display_name": "base",
   "language": "python",
   "name": "python3"
  },
  "language_info": {
   "codemirror_mode": {
    "name": "ipython",
    "version": 3
   },
   "file_extension": ".py",
   "mimetype": "text/x-python",
   "name": "python",
   "nbconvert_exporter": "python",
   "pygments_lexer": "ipython3",
   "version": "3.12.7"
  }
 },
 "nbformat": 4,
 "nbformat_minor": 4
}
